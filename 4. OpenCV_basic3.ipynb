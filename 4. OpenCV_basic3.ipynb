{
 "cells": [
  {
   "cell_type": "code",
   "execution_count": 1,
   "id": "7df9236f",
   "metadata": {},
   "outputs": [],
   "source": [
    "import cv2\n",
    "import numpy as np\n",
    "import sys"
   ]
  },
  {
   "cell_type": "markdown",
   "id": "5fd3aaad",
   "metadata": {},
   "source": [
    "## 키보드 이벤트 처리하기"
   ]
  },
  {
   "cell_type": "code",
   "execution_count": 17,
   "id": "f382fa3f",
   "metadata": {},
   "outputs": [],
   "source": [
    "img = cv2.imread('./fig/cat.bmp', 0)\n",
    "\n",
    "if img is None:\n",
    "    print('image read failed')\n",
    "    sys.exit()\n",
    "    \n",
    "img1 = img.copy()  \n",
    "\n",
    "cv2.imshow('image', img)\n",
    "\n",
    "while True:\n",
    "    key = cv2.waitKey() # 한 번 누르면 바로 return\n",
    "    if key == 27:\n",
    "        break\n",
    "    elif key == ord('e'):\n",
    "        img = cv2.Canny(img, 50, 150)\n",
    "        cv2.imshow('image', img)\n",
    "    elif key == ord('i'):\n",
    "        img = 255 - img\n",
    "        cv2.imshow('image', img)\n",
    "    elif key == ord('r'):\n",
    "        img = img1.copy()\n",
    "        cv2.imshow('image', img1)\n",
    "        \n",
    "cv2.destroyAllWindows()"
   ]
  },
  {
   "cell_type": "markdown",
   "id": "e083b49d",
   "metadata": {},
   "source": [
    "## 마우스 이벤트 처리하기"
   ]
  },
  {
   "cell_type": "code",
   "execution_count": 51,
   "id": "68db42cb",
   "metadata": {},
   "outputs": [],
   "source": [
    "oldx = oldy = 0\n",
    "\n",
    "def call_mouse(event, x, y, flags, param):\n",
    "    global oldx, oldy\n",
    "    \n",
    "    if event == cv2.EVENT_LBUTTONDOWN:\n",
    "        oldx, oldy = x, y\n",
    "        #print('left btn down = ', x, y)\n",
    "        \n",
    "#    elif event == cv2.EVENT_LBUTTONUP:\n",
    "#        print('left btn up = ', x, y)\n",
    "        \n",
    "    elif event == cv2.EVENT_MOUSEMOVE:\n",
    "        if flags == cv2.EVENT_FLAG_LBUTTON: # 누른 상태에서 PRINT\n",
    "            cv2.line(img, (oldx, oldy), (x, y), (0,0,0), 5, cv2.LINE_AA)\n",
    "            cv2.imshow('image', img)\n",
    "            oldx, oldy = x, y\n",
    "           \n",
    "img = np.ones((480, 640, 3), np.uint8)*255\n",
    "\n",
    "\n",
    "# 창을 띄우고 마우스 이벤트 처리\n",
    "cv2.namedWindow('image')\n",
    "\n",
    "# cv2.setMouseCallback(windowName, onMouse, param = None) -> None\n",
    "    # windowName: 마우스이벤트를 수행할 창 이름\n",
    "    # onMouse: 마우스 이벤트 콜벡함수\n",
    "    # param: 콜백함수에 전달할 데이터\n",
    "    \n",
    "cv2.setMouseCallback('image', call_mouse, img)\n",
    "\n",
    "\n",
    "while True:\n",
    "    key = cv2.waitKey()\n",
    "    if key == 27:\n",
    "        break\n",
    "        \n",
    "    elif key == ord('s'):\n",
    "        cv2.imwrite('./fig/hongbi.png', img)   \n",
    "        \n",
    "cv2.destroyAllWindows()"
   ]
  },
  {
   "cell_type": "markdown",
   "id": "15e44744",
   "metadata": {},
   "source": [
    "## 트랙바 사용하기"
   ]
  },
  {
   "cell_type": "code",
   "execution_count": null,
   "id": "d5e9dea7",
   "metadata": {},
   "outputs": [],
   "source": [
    "# createTrackbar(trackbarName, windowName, value, count, onChange) -> None\n",
    "# trackbarName: 트랙바 이름\n",
    "# windowName : 트랙바를 생성할 창 이름\n",
    "# value : 트랙바 위치 초기값\n",
    "# count : 트랙바 최댓값, 최솟값은 0\n",
    "# onChange :callback 함수 e.g., onChange(pos) 위치를 정수형태로 전달"
   ]
  },
  {
   "cell_type": "code",
   "execution_count": 59,
   "id": "662c3c78",
   "metadata": {},
   "outputs": [],
   "source": [
    "def call_trackbar(pos):\n",
    "    img[:] = pos\n",
    "    cv2.imshow('image', img)\n",
    "\n",
    "img = np.zeros((480, 640), np.uint8)\n",
    "\n",
    "cv2.namedWindow('image')\n",
    "cv2.createTrackbar('level', 'image', 50, 255, call_trackbar)\n",
    "\n",
    "cv2.imshow('image', img)\n",
    "\n",
    "while True:\n",
    "    if cv2.waitKey() == 27:\n",
    "        break\n",
    "cv2.destroyAllWindows()"
   ]
  },
  {
   "cell_type": "code",
   "execution_count": 65,
   "id": "109b6204",
   "metadata": {},
   "outputs": [],
   "source": [
    "def call_trackbar(pos):\n",
    "    global img\n",
    "    \n",
    "    img_glass = img*pos\n",
    "    cv2.imshow('image', img_glass)\n",
    "\n",
    "img_alpha = cv2.imread('./fig/imgbin_sunglasses_1.png', cv2.IMREAD_UNCHANGED)\n",
    "img = img_alpha[:,:,-1]\n",
    "img[img > 0] = 1\n",
    "\n",
    "cv2.namedWindow('image', cv2.WINDOW_NORMAL)\n",
    "cv2.imshow('image',img)\n",
    "cv2.createTrackbar('level', 'image', 0, 255, call_trackbar)\n",
    "\n",
    "while True:\n",
    "    if cv2.waitKey() == 27:\n",
    "        break\n",
    "cv2.destroyAllWindows()"
   ]
  },
  {
   "cell_type": "code",
   "execution_count": null,
   "id": "d8460e50",
   "metadata": {},
   "outputs": [],
   "source": []
  }
 ],
 "metadata": {
  "kernelspec": {
   "display_name": "Python 3",
   "language": "python",
   "name": "python3"
  },
  "language_info": {
   "codemirror_mode": {
    "name": "ipython",
    "version": 3
   },
   "file_extension": ".py",
   "mimetype": "text/x-python",
   "name": "python",
   "nbconvert_exporter": "python",
   "pygments_lexer": "ipython3",
   "version": "3.8.8"
  }
 },
 "nbformat": 4,
 "nbformat_minor": 5
}
