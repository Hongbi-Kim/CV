{
 "cells": [
  {
   "cell_type": "code",
   "execution_count": 1,
   "id": "44dde0e2",
   "metadata": {},
   "outputs": [],
   "source": [
    "import cv2\n",
    "import sys\n",
    "import numpy as np"
   ]
  },
  {
   "cell_type": "markdown",
   "id": "4bd494e0",
   "metadata": {},
   "source": [
    "## 알파 채널을 마스크 영상으로 이용"
   ]
  },
  {
   "cell_type": "code",
   "execution_count": null,
   "id": "50b6d0d2",
   "metadata": {},
   "outputs": [
    {
     "name": "stdout",
     "output_type": "stream",
     "text": [
      "(480, 960, 4)\n"
     ]
    }
   ],
   "source": [
    "src = cv2.imread('./fig/puppy.bmp', 1)\n",
    "img_alpha = cv2.imread('./fig/imgbin_sunglasses_1.png', cv2.IMREAD_UNCHANGED)\n",
    "print(img_alpha.shape)\n",
    "\n",
    "if src is None or img_alpha is None:\n",
    "    print('image read failed')\n",
    "    sys.exit()\n",
    "    \n",
    "sunglass = img_alpha[:,:,0:3]\n",
    "mask = img_alpha[:,:,-1]\n",
    "      \n",
    "cv2.imshow('sunglass', sunglass)\n",
    "cv2.imshow('mask', mask)\n",
    "      \n",
    "while True:\n",
    "    if cv2.waitKey() == 27:\n",
    "        break\n",
    "cv2.destroyAllWindows()"
   ]
  },
  {
   "cell_type": "code",
   "execution_count": 2,
   "id": "4757419a",
   "metadata": {},
   "outputs": [
    {
     "name": "stdout",
     "output_type": "stream",
     "text": [
      "(480, 960, 4)\n"
     ]
    }
   ],
   "source": [
    "src = cv2.imread('./fig/puppy.bmp', 1)\n",
    "img_alpha = cv2.imread('./fig/imgbin_sunglasses_1.png', cv2.IMREAD_UNCHANGED)\n",
    "print(img_alpha.shape)\n",
    "\n",
    "img_alpha_re = cv2.resize(img_alpha, (300, 150))\n",
    "\n",
    "if src is None or img_alpha is None:\n",
    "    print('image read failed')\n",
    "    sys.exit()\n",
    "\n",
    "sunglass = img_alpha_re[:,:,0:3] # BGR : 3채널로 구성된 컬러 이미지\n",
    "mask = img_alpha_re[:,:,-1]      # A : 알파채널로 만든 마스크\n",
    "\n",
    "h, w = mask.shape[:2]\n",
    "crop = src[130:130+h, 235:235+w]\n",
    "\n",
    "crop[mask > 0] = (0, 0, 255)     # mask색상 변경\n",
    "\n",
    "#cv2.copyTo(sunglass, mask, crop)\n",
    "\n",
    "cv2.imshow('sunglass', sunglass)\n",
    "cv2.imshow('mask', mask)\n",
    "cv2.imshow('src', src)\n",
    "cv2.imshow('crop', crop)    \n",
    "      \n",
    "while True:\n",
    "    if cv2.waitKey() == 27:\n",
    "        break\n",
    "cv2.destroyAllWindows()"
   ]
  },
  {
   "cell_type": "markdown",
   "id": "eb8aebdc",
   "metadata": {},
   "source": [
    "## OpenCV 그리기 함수"
   ]
  },
  {
   "cell_type": "code",
   "execution_count": 29,
   "id": "0640773e",
   "metadata": {},
   "outputs": [],
   "source": [
    "img =  np.full((600, 1200, 3), 255, np.uint8)\n",
    "\n",
    "# cv2.line(img, pt1, pt2, color, thickness = None, lineType = None, shift = None) -> img\n",
    "    # img:그림을 그릴 영상\n",
    "    # pt1, pt2: 직선의 시작점, 끝점\n",
    "    # color: 직선의 칼라 (B,G,R)의 튜플\n",
    "    # thinkness: 선두께, 기본은= 1\n",
    "    # lineType: cv2.LINE_4, cv2.LINE_8, cv2.LINE_AA\n",
    "    \n",
    "cv2.line(img, (100, 50), (300, 50), (100,50,255), 2)\n",
    "\n",
    "cv2.imshow('canvas',img)\n",
    "\n",
    "while True:\n",
    "    if cv2.waitKey() == 27:\n",
    "        break\n",
    "cv2.destroyAllWindows()"
   ]
  },
  {
   "cell_type": "code",
   "execution_count": 3,
   "id": "50505ec1",
   "metadata": {},
   "outputs": [
    {
     "name": "stdout",
     "output_type": "stream",
     "text": [
      "Opencv version = 4.5.5\n"
     ]
    }
   ],
   "source": [
    "img =  np.full((600, 1200, 3), 255, np.uint8)\n",
    "    \n",
    "cv2.line(img, (100, 50), (300, 50), (100,50,255), 10)\n",
    "cv2.line(img, (300, 50), (150, 200), (100,50,255), 10)\n",
    "cv2.arrowedLine(img, (400, 20), (400, 230), (100,50,255), 10)\n",
    "\n",
    "# cv2.rectangle(img, pt1, pt2, color, thickness = None, lineType = None) -> img\n",
    "   # pt1 :좌측 상단,  pt2: 우측하단\n",
    "# cv2.rectangle(img, rect, color, thickness = None, lineType = None) -> img\n",
    "    # rect: 사각형의 위치 정보 (x, y, w, h)\n",
    "    \n",
    "cv2.rectangle(img, (200, 300), (400,400),  (100,50,255), 10)\n",
    "cv2.rectangle(img, (200, 300), (400,400),  (100,0,0), -1)\n",
    "\n",
    "# cv2.circle(img, center, radius, color, thickness = None, lineType = None) -> img\n",
    "    # center: 원의 중심좌표 (x, y)\n",
    "    # radius : 원의 반지름\n",
    "\n",
    "cv2.circle(img, (600, 300), 100, (255,50,255), 10)\n",
    "\n",
    "# cv2.ellipse(img, center, axes, angle, startAngle, endAngle, color[, thickness[, lineType[, shift]]]) -> img\n",
    "    # center: 원의 중심좌표 (x, y)\n",
    "    # axis: 축의 반지름(x, y)\n",
    "    # angle: 타원의 기울기 (예, 10, 오른쪽으로 10도 기울어짐)\n",
    "    # startAngle: 타원을 그리는 시작 각도 (3시 방향이 0도)\n",
    "    # endAngle: 타원을 그리는 종료 각도\n",
    "\n",
    "cv2.ellipse(img, (600, 300), (150, 50), -25, 0, 360, (255,50,0), 10)    \n",
    "\n",
    "\n",
    "# putText(img, text, org, fontFace, fontScale, color[, thickness[, lineType[, bottomLeftOrigin]]]) \n",
    "text = 'Opencv version = ' + cv2.__version__    \n",
    "cv2.putText(img, text, (800, 100), cv2.FONT_HERSHEY_SCRIPT_SIMPLEX,\n",
    "            0.8, (0,0,0), 1, cv2.LINE_AA )\n",
    "\n",
    "\n",
    "# cv2.polylines(img, pts, isClosed, color, thickness = None, lineType = None) -> img\n",
    "    # center: 다각형 점들의 array\n",
    "    # isClosed : True for 폐곡선\n",
    "    \n",
    "print(text)\n",
    "cv2.imshow('canvas',img)\n",
    "\n",
    "while True:\n",
    "    if cv2.waitKey() == 27:\n",
    "        break\n",
    "cv2.destroyAllWindows()"
   ]
  },
  {
   "cell_type": "code",
   "execution_count": 97,
   "id": "5d6e2d18",
   "metadata": {},
   "outputs": [],
   "source": [
    "# 인삼\n",
    "img =  np.full((600, 1200, 3), 255, np.uint8)\n",
    "\n",
    "cv2.circle(img, (300, 200), 70, (100,50,255), 10)\n",
    "cv2.line(img, (450, 100), (450, 300), (100,50,255), 10)\n",
    "cv2.line(img, (280, 350), (280, 420), (100,50,255), 10)\n",
    "cv2.arrowedLine(img, (280, 420), (450, 420), (100,50,255), 10)\n",
    "\n",
    "cv2.line(img, (650, 140), (550, 270), (100,50,240), 10)\n",
    "cv2.line(img, (610, 200), (700, 270), (100,50,240), 10)\n",
    "cv2.line(img, (750, 100), (750, 300), (100,50,240), 10)\n",
    "cv2.line(img, (750, 200), (800, 200), (100,50,240), 10)\n",
    "\n",
    "cv2.rectangle(img, (600, 350), (750,420),  (100,50,255), 10)\n",
    "\n",
    "cv2.imshow('canvas',img)\n",
    "\n",
    "while True:\n",
    "    if cv2.waitKey() == 27:\n",
    "        break\n",
    "cv2.destroyAllWindows()"
   ]
  },
  {
   "cell_type": "markdown",
   "id": "9160958d",
   "metadata": {},
   "source": [
    "## 카메라와 동영상 처리하기 "
   ]
  },
  {
   "cell_type": "code",
   "execution_count": 4,
   "id": "282852f9",
   "metadata": {},
   "outputs": [],
   "source": [
    "cap = cv2.VideoCapture('./fig/raining.mp4')\n",
    "#cap = cv2.VideoCapture(0)\n",
    "\n",
    "if not cap.isOpened():\n",
    "    print('Videocap open failed')\n",
    "    sys.exit()\n",
    "    \n",
    "while True:\n",
    "    ret, frame = cap.read()\n",
    "    \n",
    "    if not ret:\n",
    "        print('video read failed')\n",
    "        break\n",
    "        \n",
    "    edge = cv2.Canny(frame, 50, 150)\n",
    "    \n",
    "    cv2.namedWindow('img', cv2.WINDOW_NORMAL)\n",
    "    cv2.namedWindow('edge', cv2.WINDOW_NORMAL)\n",
    "    cv2.imshow('img', frame)\n",
    "    cv2.imshow('edge', edge)\n",
    "    \n",
    "    if cv2.waitKey(20) == 27:\n",
    "        break\n",
    "        \n",
    "cap.release()\n",
    "cv2.destroyAllWindows()"
   ]
  },
  {
   "cell_type": "code",
   "execution_count": 123,
   "id": "4a8b641a",
   "metadata": {},
   "outputs": [
    {
     "name": "stdout",
     "output_type": "stream",
     "text": [
      "640 480 21\n"
     ]
    }
   ],
   "source": [
    "cap = cv2.VideoCapture(0)\n",
    "\n",
    "if not cap.isOpened():\n",
    "    print('Videocap open failed')\n",
    "    sys.exit()\n",
    "    \n",
    "w = int(cap.get(cv2.CAP_PROP_FRAME_WIDTH))\n",
    "h = int(cap.get(cv2.CAP_PROP_FRAME_HEIGHT))\n",
    "fps = int(cap.get(cv2.CAP_PROP_FPS)*0.7)\n",
    "fourcc = cv2.VideoWriter_fourcc(*'DIVX') # : 저장\n",
    "\n",
    "out = cv2.VideoWriter('./fig/output_class.avi', fourcc, fps, (w, h))\n",
    "\n",
    "print(w, h, fps)\n",
    "\n",
    "while True:\n",
    "    ret, frame = cap.read()\n",
    "    \n",
    "    if not ret:\n",
    "        print('video read failed')\n",
    "        break\n",
    "    \n",
    "    ### 동영상 편집 부분\n",
    "    #########################################################################\n",
    "    edge = cv2.Canny(frame, 30, 150) # grayscale이라 저장 안됨.\n",
    "    edge = ~edge # 255 - edge\n",
    "    edge_color = cv2.cvtColor(edge, cv2.COLOR_GRAY2BGR)\n",
    "    \n",
    "    #########################################################################\n",
    "    \n",
    "    cv2.imshow('img', frame)\n",
    "    cv2.imshow('edge_color', edge_color)\n",
    "    \n",
    "    out.write(frame)\n",
    "    out.write(edge_color)\n",
    "    \n",
    "    if cv2.waitKey(20) == 27:\n",
    "        break\n",
    "        \n",
    "cap.release()\n",
    "out.release()\n",
    "cv2.destroyAllWindows()"
   ]
  },
  {
   "cell_type": "code",
   "execution_count": null,
   "id": "6286dd35",
   "metadata": {},
   "outputs": [],
   "source": []
  }
 ],
 "metadata": {
  "kernelspec": {
   "display_name": "Python 3",
   "language": "python",
   "name": "python3"
  },
  "language_info": {
   "codemirror_mode": {
    "name": "ipython",
    "version": 3
   },
   "file_extension": ".py",
   "mimetype": "text/x-python",
   "name": "python",
   "nbconvert_exporter": "python",
   "pygments_lexer": "ipython3",
   "version": "3.8.8"
  }
 },
 "nbformat": 4,
 "nbformat_minor": 5
}
