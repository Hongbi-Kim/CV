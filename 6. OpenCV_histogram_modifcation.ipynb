{
 "cells": [
  {
   "cell_type": "code",
   "execution_count": 1,
   "id": "701fa192",
   "metadata": {},
   "outputs": [],
   "source": [
    "import numpy as np\n",
    "import cv2\n",
    "import sys"
   ]
  },
  {
   "cell_type": "code",
   "execution_count": null,
   "id": "7461361d",
   "metadata": {},
   "outputs": [],
   "source": [
    "# cv2.normalize(src, dst=None, alpha=None, beta=None, norm_type=None, dtype=None, mask=None) -> dst\n",
    "# src: 입력영상\n",
    "# dst: 결과영상\n",
    "# alpha: 정규화 최소값 (예, 0)\n",
    "# beta: 정규화 최댓값 (예, 155)\n",
    "# norm_type: cv2.NORM_MINMAX\n",
    "# dtype =  -1, src와 같은 type\n",
    "\n",
    "# dst = np.clip(255*(src-smin)/(smax-smin) + 0, 0, 255).astype(np.uint8)"
   ]
  },
  {
   "cell_type": "code",
   "execution_count": 4,
   "id": "03ee6736",
   "metadata": {},
   "outputs": [],
   "source": [
    "src = cv2.imread('./fig/Hawkes.jpg', cv2.IMREAD_GRAYSCALE)\n",
    "\n",
    "dst_norm = cv2.normalize(src, None, 0, 255, cv2.NORM_MINMAX, dtype = -1)\n",
    "dst_equal = cv2.equalizeHist(src)\n",
    "\n",
    "cv2.imshow('src', src)\n",
    "cv2.imshow('dst_norm', dst_norm)\n",
    "cv2.imshow('dst_equal', dst_equal)\n",
    "\n",
    "while True:\n",
    "    if cv2.waitKey() == 27:\n",
    "        break\n",
    "cv2.destroyAllWindows()"
   ]
  },
  {
   "cell_type": "code",
   "execution_count": 6,
   "id": "e8239e94",
   "metadata": {},
   "outputs": [],
   "source": [
    "src = cv2.imread('./fig/field.bmp')\n",
    "\n",
    "src_hsv = cv2.cvtColor(src, cv2.COLOR_BGR2HSV)\n",
    "\n",
    "h, s, v = cv2.split(src_hsv)\n",
    "\n",
    "v_eq = cv2.equalizeHist(v)\n",
    "src_hsv_eq = cv2.merge((h, s, v_eq))\n",
    "src_hsv_eq_bgr = cv2.cvtColor(src_hsv_eq, cv2.COLOR_HSV2BGR)\n",
    "\n",
    "cv2.imshow('src', src)\n",
    "\n",
    "cv2.imshow('src_hsv_eq_bgr', src_hsv_eq_bgr)\n",
    "\n",
    "while True:\n",
    "    if cv2.waitKey() == 27:\n",
    "        break\n",
    "cv2.destroyAllWindows()"
   ]
  },
  {
   "cell_type": "code",
   "execution_count": null,
   "id": "62937e4a",
   "metadata": {},
   "outputs": [],
   "source": []
  }
 ],
 "metadata": {
  "kernelspec": {
   "display_name": "Python 3",
   "language": "python",
   "name": "python3"
  },
  "language_info": {
   "codemirror_mode": {
    "name": "ipython",
    "version": 3
   },
   "file_extension": ".py",
   "mimetype": "text/x-python",
   "name": "python",
   "nbconvert_exporter": "python",
   "pygments_lexer": "ipython3",
   "version": "3.8.8"
  }
 },
 "nbformat": 4,
 "nbformat_minor": 5
}
