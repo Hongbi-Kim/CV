{
 "cells": [
  {
   "cell_type": "code",
   "execution_count": 2,
   "id": "6488d808",
   "metadata": {},
   "outputs": [],
   "source": [
    "import numpy as np\n",
    "import cv2\n",
    "import sys"
   ]
  },
  {
   "cell_type": "markdown",
   "id": "540af548",
   "metadata": {},
   "source": [
    "### 영상의 속성 참조"
   ]
  },
  {
   "cell_type": "code",
   "execution_count": 50,
   "id": "dc664100",
   "metadata": {
    "scrolled": true
   },
   "outputs": [
    {
     "name": "stdout",
     "output_type": "stream",
     "text": [
      "img type =  <class 'numpy.ndarray'>\n",
      "img1 type =  <class 'numpy.ndarray'>\n",
      "img dimension =  (480, 640, 3)\n",
      "img1 dimension =  (853, 1280, 3)\n",
      "img type =  uint8\n",
      "img1 type =  uint8\n"
     ]
    }
   ],
   "source": [
    "img = cv2.imread('fig/puppy.bmp', cv2.IMREAD_COLOR)\n",
    "img1 = cv2.imread('fig/puppy_1280_853.jpg', cv2.IMREAD_COLOR)\n",
    "\n",
    "if img is None or img1 is None:\n",
    "    print('Image load failed!')\n",
    "    sys.exit()\n",
    "\n",
    "\n",
    "# 영상의 속성 참조\n",
    "print('img type = ', type(img))\n",
    "print('img1 type = ', type(img1))\n",
    "\n",
    "print('img dimension = ', img.shape)\n",
    "print('img1 dimension = ', img1.shape)\n",
    "\n",
    "print('img type = ', img.dtype)\n",
    "print('img1 type = ', img1.dtype)\n",
    "\n",
    "cv2.imshow('image', img)\n",
    "cv2.imshow('image1', img1)\n",
    "\n",
    "cv2.waitKey()\n",
    "cv2.destroyAllWindows()"
   ]
  },
  {
   "cell_type": "markdown",
   "id": "72cd54e2",
   "metadata": {},
   "source": [
    "### 영상의 크기 참조"
   ]
  },
  {
   "cell_type": "code",
   "execution_count": 53,
   "id": "2c00c32a",
   "metadata": {},
   "outputs": [
    {
     "name": "stdout",
     "output_type": "stream",
     "text": [
      "img size: 640 x 480\n"
     ]
    }
   ],
   "source": [
    "img = cv2.imread('fig/puppy.bmp', cv2.IMREAD_COLOR)\n",
    "\n",
    "if img is None:\n",
    "    print('Image load failed!')\n",
    "    sys.exit()\n",
    "    \n",
    "h, w = img.shape[:2]\n",
    "print('img size: {} x {}'.format(w, h))\n",
    "\n",
    "cv2.imshow('image', img)\n",
    "cv2.waitKey()\n",
    "cv2.destroyAllWindows()"
   ]
  },
  {
   "cell_type": "markdown",
   "id": "5d0fa9ae",
   "metadata": {},
   "source": [
    "### 영상의 픽셀값 참조"
   ]
  },
  {
   "cell_type": "code",
   "execution_count": 58,
   "id": "63a86659",
   "metadata": {},
   "outputs": [
    {
     "name": "stdout",
     "output_type": "stream",
     "text": [
      "color center :  [ 0 14 40]\n",
      "gray center :  20\n"
     ]
    }
   ],
   "source": [
    "img1 = cv2.imread('./fig/puppy.bmp',1) # 컬러\n",
    "img2 = cv2.imread('./fig/puppy.bmp',0) # 흑백\n",
    "\n",
    "if img1 is None or img2 is None:\n",
    "    print('Image load failed!')\n",
    "    sys.exit()\n",
    "\n",
    "h, w = img1.shape[:2]   \n",
    "img1_center = img1[h//2, w//2]\n",
    "print('color center : ', img1_center) # BGR\n",
    "\n",
    "gray_center = img2[h//2, w//2]\n",
    "print('gray center : ', gray_center)\n",
    "    \n",
    "cv2.imshow('image1', img1)\n",
    "cv2.imshow('image2',img2)\n",
    "\n",
    "cv2.waitKey()\n",
    "cv2.destroyAllWindows()"
   ]
  },
  {
   "cell_type": "code",
   "execution_count": 60,
   "id": "8821c5d3",
   "metadata": {},
   "outputs": [
    {
     "name": "stdout",
     "output_type": "stream",
     "text": [
      "color center :  [194 198 209]\n",
      "gray center :  201\n"
     ]
    }
   ],
   "source": [
    "img1 = cv2.imread('./fig/puppy.bmp',1) # 컬러\n",
    "img2 = cv2.imread('./fig/puppy.bmp',0) # 흑백\n",
    "\n",
    "if img1 is None or img2 is None:\n",
    "    print('Image load failed!')\n",
    "    sys.exit()\n",
    "\n",
    "x = 120\n",
    "y = 320\n",
    "\n",
    "img1_xy = img1[y, x]\n",
    "print('color center : ', img1_xy) # BGR\n",
    "\n",
    "gray_xy = img2[y, x]\n",
    "print('gray center : ', gray_xy)\n",
    "    \n",
    "cv2.imshow('image1', img1)\n",
    "cv2.imshow('image2',img2)\n",
    "\n",
    "cv2.waitKey()\n",
    "cv2.destroyAllWindows()"
   ]
  },
  {
   "cell_type": "markdown",
   "id": "0bf19ab1",
   "metadata": {},
   "source": [
    "### 영상생성"
   ]
  },
  {
   "cell_type": "code",
   "execution_count": 93,
   "id": "41fa99b2",
   "metadata": {},
   "outputs": [],
   "source": [
    "img1 = cv2.imread('./fig/puppy.bmp',1) # 컬러\n",
    "img2 = cv2.imread('./fig/puppy.bmp',0) # 흑백\n",
    "\n",
    "if img1 is None or img2 is None:\n",
    "    print('Image load failed!')\n",
    "    sys.exit()\n",
    "\n",
    "img1[10:110, 100:200] = (0,0,255) # BGR # 리스트로 묶어도 됨. \n",
    "img2[10:110, 100:200] = 128    # 흑백 사진을 컬러로 바꾸려 하면 안됨.\n",
    "    \n",
    "cv2.imshow('image1', img1)\n",
    "cv2.imshow('image2', img2)\n",
    "\n",
    "cv2.waitKey()\n",
    "cv2.destroyAllWindows()"
   ]
  },
  {
   "cell_type": "code",
   "execution_count": 96,
   "id": "6dfe3db6",
   "metadata": {},
   "outputs": [],
   "source": [
    "img1 = np.zeros((240,320,3), dtype = np.uint8) # 컬러\n",
    "img2 = np.zeros((240,320), dtype = np.uint8) # 흑백\n",
    "img3 = np.full((240,320,3), 255, dtype = np.uint8) # 컬러\n",
    "img4 = np.random.randint(0, 255, size = (240, 320), dtype = np.uint8)  # 0~255 랜덤\n",
    "\n",
    "img1[10:60, 10:60] = (0,0,255)\n",
    "img2[10:60, 10:60] = 255\n",
    "\n",
    "cv2.imshow('img1', img1)\n",
    "cv2.imshow('img2', img2)\n",
    "cv2.imshow('img3', img3)\n",
    "cv2.imshow('img4', img4)\n",
    "\n",
    "cv2.waitKey()\n",
    "cv2.destroyAllWindows()"
   ]
  },
  {
   "cell_type": "markdown",
   "id": "3c3c60fd",
   "metadata": {},
   "source": [
    "### 영상 복사"
   ]
  },
  {
   "cell_type": "code",
   "execution_count": 79,
   "id": "414503e9",
   "metadata": {},
   "outputs": [],
   "source": [
    "import numpy as np\n",
    "import cv2\n",
    "import sys\n",
    "\n",
    "img = cv2.imread('./fig/cat.bmp')\n",
    "\n",
    "if img is None:\n",
    "    print('image read failed')\n",
    "    sys,exit()\n",
    "    \n",
    "img1 = img        # image를 가리키는 주소 복사\n",
    "img2 = img.copy() # image 복사\n",
    "\n",
    "img[100:200, 200:300] = (0, 255, 255)\n",
    "\n",
    "\n",
    "cv2.imshow('image', img)\n",
    "cv2.imshow('image1', img1)\n",
    "cv2.imshow('image2', img2)\n",
    "\n",
    "while True:\n",
    "    if cv2.waitKey(1000) == 27:\n",
    "        break\n",
    "        \n",
    "cv2.destroyAllWindows()"
   ]
  },
  {
   "cell_type": "code",
   "execution_count": 83,
   "id": "1d6159e8",
   "metadata": {},
   "outputs": [],
   "source": [
    "# circle\n",
    "image = np.ones((400, 400, 3), dtype = np.uint8)*255\n",
    "\n",
    "img1 = image.copy()\n",
    "\n",
    "# circle(img, center, radius, color[, thickness[, lineType[, shift]]]) -> img\n",
    "cv2.circle(image, (100, 200), 100, (0,0,255), 3, cv2.LINE_AA)\n",
    "\n",
    "cv2.imshow('image', image)\n",
    "cv2.waitKey()\n",
    "cv2.destroyAllWindows()"
   ]
  },
  {
   "cell_type": "code",
   "execution_count": 84,
   "id": "1f1a001d",
   "metadata": {},
   "outputs": [],
   "source": [
    "image = np.ones((400, 400, 3), dtype = np.uint8)*255\n",
    "\n",
    "img1 = image.copy()\n",
    "\n",
    "# circle(img, center, radius, color[, thickness[, lineType[, shift]]]) -> img\n",
    "cv2.circle(image, (100, 200), 100, (0,0,255), -1) # 색이 채워진 원\n",
    "\n",
    "cv2.imshow('image', image)\n",
    "cv2.waitKey()\n",
    "cv2.destroyAllWindows()"
   ]
  },
  {
   "cell_type": "markdown",
   "id": "f07308f5",
   "metadata": {},
   "source": [
    "### 부분 영상 추출"
   ]
  },
  {
   "cell_type": "code",
   "execution_count": 97,
   "id": "84587ef3",
   "metadata": {},
   "outputs": [],
   "source": [
    "img1 = cv2.imread('./fig/puppy.bmp')\n",
    "\n",
    "img2 = img1[200:400, 300:500]\n",
    "img3 = img1[200:400, 300:500].copy()\n",
    "\n",
    "cv2.circle(img2, (110, 90), 50, (0, 0, 255), 3, cv2.LINE_AA)\n",
    "\n",
    "cv2.imshow('image1', img1)\n",
    "cv2.imshow('image2', img2)\n",
    "cv2.imshow('image3', img3)\n",
    "\n",
    "\n",
    "while True:\n",
    "    if cv2.waitKey(1000) == 27:\n",
    "        break\n",
    "        \n",
    "cv2.destroyAllWindows()"
   ]
  },
  {
   "cell_type": "markdown",
   "id": "44f22fbe",
   "metadata": {},
   "source": [
    "## 마스크 연산과 ROI"
   ]
  },
  {
   "cell_type": "code",
   "execution_count": 98,
   "id": "9cc31d61",
   "metadata": {},
   "outputs": [],
   "source": [
    "# 마스크 영상을 이용한 영상 합성 \n",
    "src = cv2.imread('./fig/airplane.bmp', cv2.IMREAD_COLOR)\n",
    "mask = cv2.imread('./fig/mask_plane.bmp', cv2.IMREAD_GRAYSCALE)\n",
    "dst = cv2.imread('./fig/field.bmp', cv2.IMREAD_COLOR)\n",
    "\n",
    "if src is None or mask is None or dst is None:\n",
    "    print('image read failed')\n",
    "    sys.exit()\n",
    "\n",
    "# 방법1) 영상의 포맷과 형식이 같아야 함\n",
    "# cv2.copyTo(src, mask, dst = None) -> dst\n",
    "cv2.copyTo(src, mask, dst)\n",
    "\n",
    "# 방법2) Using numpy\n",
    "# dst[mask > 0] = src[mask > 0]\n",
    "\n",
    "cv2.imshow('src', src)\n",
    "cv2.imshow('mask', mask)\n",
    "cv2.imshow('dst', dst)\n",
    "\n",
    "cv2.waitKey()\n",
    "cv2.destroyAllWindows()"
   ]
  },
  {
   "cell_type": "code",
   "execution_count": 99,
   "id": "575c2e76",
   "metadata": {},
   "outputs": [],
   "source": [
    "# 합성\n",
    "src = cv2.imread('./fig/airplane.bmp', cv2.IMREAD_COLOR)\n",
    "src_gray = cv2.cvtColor(src, cv2.COLOR_BGR2GRAY)\n",
    "\n",
    "# threshold(src, thresh, maxval, type[, dst]) -> retval, dst\n",
    "ret, mask = cv2.threshold(src_gray, 160, 255, cv2.THRESH_BINARY_INV)\n",
    "\n",
    "\n",
    "cv2.imshow('src', src)\n",
    "cv2.imshow('src_gray', src_gray)\n",
    "cv2.imshow('mask', mask)\n",
    "\n",
    "cv2.waitKey()\n",
    "cv2.destroyAllWindows()"
   ]
  },
  {
   "cell_type": "markdown",
   "id": "281b96d2",
   "metadata": {},
   "source": [
    "## 송아지 합성"
   ]
  },
  {
   "cell_type": "code",
   "execution_count": 101,
   "id": "20789808",
   "metadata": {},
   "outputs": [
    {
     "name": "stdout",
     "output_type": "stream",
     "text": [
      "(600, 600, 3)\n",
      "(1125, 1500, 3)\n"
     ]
    }
   ],
   "source": [
    "img1 = cv2.imread('./fig/cow.png')\n",
    "img2 = cv2.imread('./fig/green.png')\n",
    "img1_gray = cv2.cvtColor(img1, cv2.COLOR_BGR2GRAY)\n",
    "\n",
    "print(img1.shape)\n",
    "print(img2.shape)\n",
    "\n",
    "h, w = img1.shape[:2]\n",
    "\n",
    "img2 = cv2.resize(img2, (w,h), cv2.INTER_AREA)\n",
    "\n",
    "ret, mask = cv2.threshold(img1_gray, 245,255, cv2.THRESH_BINARY_INV)\n",
    "\n",
    "cv2.copyTo(img1, mask, img2)\n",
    "\n",
    "cv2.imshow('img1', img1)\n",
    "cv2.imshow('img2', img2)\n",
    "cv2.imshow('mask', mask)\n",
    "\n",
    "\n",
    "cv2.waitKey()\n",
    "cv2.destroyAllWindows()"
   ]
  },
  {
   "cell_type": "code",
   "execution_count": 7,
   "id": "045bd0c5",
   "metadata": {},
   "outputs": [],
   "source": [
    "# 송아지 방법2\n",
    "img1 = cv2.imread('./fig/cow.png', 1)\n",
    "img2 = cv2.imread('./fig/green.png', 1)\n",
    "\n",
    "h, w = img1.shape[:2]\n",
    "\n",
    "img2_seg = img2[400: 400+h, 200: 200+w]\n",
    "\n",
    "ret, mask = cv2.threshold(img1, 244, 255, cv2.THRESH_BINARY_INV)\n",
    "\n",
    "cv2.copyTo(img1, mask, img2_seg)\n",
    "\n",
    "cv2.imshow('img1', img1)\n",
    "cv2.imshow('img2_seg', img2_seg)\n",
    "cv2.imshow('mask', mask)\n",
    "\n",
    "while True:\n",
    "    if cv2.waitKey() == 27:\n",
    "        break\n",
    "cv2.destroyAllWindows()"
   ]
  },
  {
   "cell_type": "code",
   "execution_count": 27,
   "id": "ed3360ce",
   "metadata": {},
   "outputs": [
    {
     "name": "stdout",
     "output_type": "stream",
     "text": [
      "(5064, 4096, 3)\n",
      "(483, 640, 3)\n"
     ]
    }
   ],
   "source": [
    "img1 = cv2.imread('./fig/buzz.jpg')\n",
    "img2 = cv2.imread('./fig/space.jpg')\n",
    "img1_gray = cv2.cvtColor(img1, cv2.COLOR_BGR2GRAY)\n",
    "\n",
    "print(img1.shape)\n",
    "print(img2.shape)"
   ]
  },
  {
   "cell_type": "code",
   "execution_count": 104,
   "id": "05596c51",
   "metadata": {},
   "outputs": [
    {
     "name": "stdout",
     "output_type": "stream",
     "text": [
      "(5064, 4096, 3)\n",
      "(483, 640, 3)\n"
     ]
    }
   ],
   "source": [
    "img1 = cv2.imread('./fig/buzz.jpg')\n",
    "img2 = cv2.imread('./fig/space.jpg')\n",
    "img1_gray = cv2.cvtColor(img1, cv2.COLOR_BGR2GRAY)\n",
    "\n",
    "print(img1.shape)\n",
    "print(img2.shape)\n",
    "\n",
    "h, w = img1.shape[:2]\n",
    "\n",
    "img1 = cv2.resize(img1, (w//8,h//8), cv2.INTER_AREA)\n",
    "img2 = cv2.resize(img2, (w//8,h//8), cv2.INTER_AREA)\n",
    "img1_gray = cv2.resize(img1_gray, (w//8,h//8), cv2.INTER_AREA)\n",
    "\n",
    "ret, mask = cv2.threshold(img1_gray, 254,255, cv2.THRESH_BINARY_INV)\n",
    "\n",
    "cv2.copyTo(img1, mask, img2)\n",
    "\n",
    "#cv2.imshow('img1', img1)\n",
    "cv2.imshow('img2', img2)\n",
    "#cv2.imshow('mask', mask)\n",
    "\n",
    "\n",
    "cv2.waitKey()\n",
    "cv2.destroyAllWindows()"
   ]
  },
  {
   "cell_type": "code",
   "execution_count": null,
   "id": "c1e68780",
   "metadata": {},
   "outputs": [],
   "source": []
  }
 ],
 "metadata": {
  "kernelspec": {
   "display_name": "Python 3",
   "language": "python",
   "name": "python3"
  },
  "language_info": {
   "codemirror_mode": {
    "name": "ipython",
    "version": 3
   },
   "file_extension": ".py",
   "mimetype": "text/x-python",
   "name": "python",
   "nbconvert_exporter": "python",
   "pygments_lexer": "ipython3",
   "version": "3.8.8"
  }
 },
 "nbformat": 4,
 "nbformat_minor": 5
}
